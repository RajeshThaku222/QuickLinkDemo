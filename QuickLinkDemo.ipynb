{
 "cells": [
  {
   "cell_type": "markdown",
   "id": "16a3d3d2-ef48-4ef6-bebf-4e64157b66e8",
   "metadata": {
    "canvas": {
     "comments": [],
     "componentType": "CodeCell",
     "copiedOriginId": null,
     "diskcache": false,
     "headerColor": "inherit",
     "id": "ca15018a-7744-447a-919c-749c8b70fe78",
     "isComponent": false,
     "name": "import modules",
     "parents": []
    },
    "tags": []
   },
   "source": [
    "### Import Module"
   ]
  },
  {
   "cell_type": "code",
   "execution_count": 1,
   "id": "3e54a45e-48e0-41e3-b42c-10721086b143",
   "metadata": {
    "canvas": {
     "comments": [],
     "componentType": "CodeCell",
     "copiedOriginId": null,
     "diskcache": false,
     "headerColor": "inherit",
     "id": "c03768ea-c242-4ead-add6-2ea2f9ab2f68",
     "isComponent": true,
     "name": "Import Module",
     "parents": []
    },
    "tags": []
   },
   "outputs": [],
   "source": [
    "import tensorflow as tf\n",
    "import numpy as np\n",
    "import matplotlib.pyplot as plt\n",
    "import pandas as pd\n",
    "import seaborn as sns\n",
    "import warnings\n",
    "\n",
    "warnings.filterwarnings(\"ignore\")"
   ]
  },
  {
   "cell_type": "markdown",
   "id": "b5a08d2b-de87-4125-892c-12885fb7a9d8",
   "metadata": {
    "canvas": {
     "comments": [],
     "componentType": "CodeCell",
     "copiedOriginId": null,
     "diskcache": false,
     "headerColor": "inherit",
     "id": "50be6e74-c579-4eaf-adbb-4b4f4091d0ad",
     "isComponent": false,
     "name": "",
     "parents": []
    }
   },
   "source": [
    "### Data Ingestion"
   ]
  },
  {
   "cell_type": "code",
   "execution_count": 2,
   "id": "1c6cc1bd-fe7a-4fc8-82ee-a17a85959293",
   "metadata": {
    "canvas": {
     "comments": [],
     "componentType": "CodeCell",
     "copiedOriginId": null,
     "diskcache": false,
     "headerColor": "inherit",
     "id": "caaff3b7-be5a-42a7-8f74-49b48b6f6c3a",
     "isComponent": true,
     "name": "Data Ingestion",
     "parents": [
      {
       "id": "c03768ea-c242-4ead-add6-2ea2f9ab2f68",
       "name": "Import Module"
      }
     ]
    },
    "tags": []
   },
   "outputs": [],
   "source": [
    "mnist = tf.keras.datasets.mnist"
   ]
  },
  {
   "cell_type": "markdown",
   "id": "78d093f6-571a-4069-a7a6-67c2287a7711",
   "metadata": {
    "canvas": {
     "comments": [],
     "componentType": "CodeCell",
     "copiedOriginId": null,
     "diskcache": false,
     "headerColor": "inherit",
     "id": "ca16af58-b483-4df4-81bc-b50be70030ce",
     "isComponent": false,
     "name": "",
     "parents": []
    }
   },
   "source": [
    "### Split Data"
   ]
  },
  {
   "cell_type": "code",
   "execution_count": 3,
   "id": "954d4ea9-04ef-4f91-a1c6-7ae1901001b1",
   "metadata": {
    "canvas": {
     "comments": [],
     "componentType": "CodeCell",
     "copiedOriginId": null,
     "diskcache": false,
     "headerColor": "inherit",
     "id": "a9ba7d6e-9362-431b-8183-d1e67cefb634",
     "isComponent": true,
     "name": "Split Data",
     "parents": [
      {
       "id": "caaff3b7-be5a-42a7-8f74-49b48b6f6c3a",
       "name": "Data Ingestion"
      }
     ]
    },
    "tags": []
   },
   "outputs": [
    {
     "name": "stdout",
     "output_type": "stream",
     "text": [
      "Downloading data from https://storage.googleapis.com/tensorflow/tf-keras-datasets/mnist.npz\n",
      "11490434/11490434 [==============================] - 2s 0us/step\n"
     ]
    }
   ],
   "source": [
    "(X_train_full, y_train_full), (X_test, y_test) = mnist.load_data()\n",
    "X_valid, X_train = X_train_full[:5000]/255, X_train_full[5000:]/255\n",
    "y_valid, y_train = y_train_full[:5000], y_train_full[5000:]\n",
    "\n",
    "X_test = X_test/255 "
   ]
  },
  {
   "cell_type": "markdown",
   "id": "48d93343-7e3c-40f7-bea5-6db597870248",
   "metadata": {
    "canvas": {
     "comments": [],
     "componentType": "CodeCell",
     "copiedOriginId": null,
     "diskcache": false,
     "headerColor": "inherit",
     "id": "227823a1-a90c-4d7f-938e-19a343bf5923",
     "isComponent": false,
     "name": "",
     "parents": []
    }
   },
   "source": [
    "### Define model"
   ]
  },
  {
   "cell_type": "code",
   "execution_count": 4,
   "id": "c5af53f8-a49d-44e3-a1eb-d2267f382749",
   "metadata": {
    "canvas": {
     "comments": [],
     "componentType": "CodeCell",
     "copiedOriginId": null,
     "diskcache": false,
     "headerColor": "inherit",
     "id": "e634e8d9-24f9-41b0-88b8-0bdd8a28fccd",
     "isComponent": true,
     "name": "Define model",
     "parents": [
      {
       "id": "a9ba7d6e-9362-431b-8183-d1e67cefb634",
       "name": "Split Data"
      }
     ]
    },
    "tags": []
   },
   "outputs": [
    {
     "name": "stdout",
     "output_type": "stream",
     "text": [
      "Metal device set to: Apple M1\n",
      "Model: \"sequential\"\n",
      "_________________________________________________________________\n",
      " Layer (type)                Output Shape              Param #   \n",
      "=================================================================\n",
      " inputLayer (Flatten)        (None, 784)               0         \n",
      "                                                                 \n",
      " hiddenLayer01 (Dense)       (None, 300)               235500    \n",
      "                                                                 \n",
      " hiddenLayer02 (Dense)       (None, 100)               30100     \n",
      "                                                                 \n",
      " outputLayer (Dense)         (None, 10)                1010      \n",
      "                                                                 \n",
      "=================================================================\n",
      "Total params: 266,610\n",
      "Trainable params: 266,610\n",
      "Non-trainable params: 0\n",
      "_________________________________________________________________\n"
     ]
    },
    {
     "name": "stderr",
     "output_type": "stream",
     "text": [
      "2022-09-26 01:35:41.488365: I tensorflow/core/common_runtime/pluggable_device/pluggable_device_factory.cc:306] Could not identify NUMA node of platform GPU ID 0, defaulting to 0. Your kernel may not have been built with NUMA support.\n",
      "2022-09-26 01:35:41.488801: I tensorflow/core/common_runtime/pluggable_device/pluggable_device_factory.cc:272] Created TensorFlow device (/job:localhost/replica:0/task:0/device:GPU:0 with 0 MB memory) -> physical PluggableDevice (device: 0, name: METAL, pci bus id: <undefined>)\n"
     ]
    },
    {
     "name": "stdout",
     "output_type": "stream",
     "text": [
      "WARNING:tensorflow:Compiled the loaded model, but the compiled metrics have yet to be built. `model.compile_metrics` will be empty until you train or evaluate the model.\n"
     ]
    },
    {
     "name": "stderr",
     "output_type": "stream",
     "text": [
      "WARNING:absl:Function `_wrapped_model` contains input name(s) inputLayer_input with unsupported characters which will be renamed to inputlayer_input in the SavedModel.\n"
     ]
    },
    {
     "name": "stdout",
     "output_type": "stream",
     "text": [
      "INFO:tensorflow:Assets written to: ram://b8840789-cd78-430c-a243-3bbde32ff4e4/assets\n"
     ]
    },
    {
     "name": "stderr",
     "output_type": "stream",
     "text": [
      "INFO:tensorflow:Assets written to: ram://b8840789-cd78-430c-a243-3bbde32ff4e4/assets\n"
     ]
    }
   ],
   "source": [
    "CLASSES = len(np.unique(y_train))\n",
    "\n",
    "LAYERS = [\n",
    "    tf.keras.layers.Flatten(input_shape=(28, 28), name=\"inputLayer\"), # 784\n",
    "    tf.keras.layers.Dense(300, activation=\"relu\", name=\"hiddenLayer01\"), # 300\n",
    "    tf.keras.layers.Dense(100, activation=\"relu\", name=\"hiddenLayer02\"), # 100\n",
    "    tf.keras.layers.Dense(CLASSES, activation=\"softmax\", name=\"outputLayer\"), # 10\n",
    "]\n",
    "\n",
    "model_clf = tf.keras.models.Sequential(LAYERS)\n",
    "model_clf.summary()"
   ]
  },
  {
   "cell_type": "markdown",
   "id": "47f5aaef-f1a7-416d-8ad1-9af49bfaa6e9",
   "metadata": {
    "canvas": {
     "comments": [],
     "componentType": "CodeCell",
     "copiedOriginId": null,
     "diskcache": false,
     "headerColor": "inherit",
     "id": "c7f25082-17be-4034-b2ab-56314e4325de",
     "isComponent": false,
     "name": "",
     "parents": []
    }
   },
   "source": [
    "### Compile model"
   ]
  },
  {
   "cell_type": "code",
   "execution_count": 5,
   "id": "a7c00bd6-a6e5-4442-8e81-8f828d73c9ac",
   "metadata": {
    "canvas": {
     "comments": [],
     "componentType": "CodeCell",
     "copiedOriginId": null,
     "diskcache": false,
     "headerColor": "inherit",
     "id": "5d51360d-88bf-43fb-94aa-5845e587f7be",
     "isComponent": true,
     "name": "Compile model",
     "parents": [
      {
       "id": "e634e8d9-24f9-41b0-88b8-0bdd8a28fccd",
       "name": "Define model"
      }
     ]
    },
    "tags": []
   },
   "outputs": [
    {
     "name": "stdout",
     "output_type": "stream",
     "text": [
      "WARNING:tensorflow:Compiled the loaded model, but the compiled metrics have yet to be built. `model.compile_metrics` will be empty until you train or evaluate the model.\n"
     ]
    },
    {
     "name": "stderr",
     "output_type": "stream",
     "text": [
      "WARNING:tensorflow:Compiled the loaded model, but the compiled metrics have yet to be built. `model.compile_metrics` will be empty until you train or evaluate the model.\n",
      "WARNING:absl:Function `_wrapped_model` contains input name(s) inputLayer_input with unsupported characters which will be renamed to inputlayer_input in the SavedModel.\n"
     ]
    },
    {
     "name": "stdout",
     "output_type": "stream",
     "text": [
      "INFO:tensorflow:Assets written to: ram://1225a907-bbee-4194-b4df-08bd901bf492/assets\n"
     ]
    },
    {
     "name": "stderr",
     "output_type": "stream",
     "text": [
      "INFO:tensorflow:Assets written to: ram://1225a907-bbee-4194-b4df-08bd901bf492/assets\n",
      "WARNING:absl:Function `_wrapped_model` contains input name(s) inputLayer_input with unsupported characters which will be renamed to inputlayer_input in the SavedModel.\n"
     ]
    },
    {
     "name": "stdout",
     "output_type": "stream",
     "text": [
      "INFO:tensorflow:Assets written to: ram://a4230e02-1c7f-4c07-8976-1780c62261cc/assets\n"
     ]
    },
    {
     "name": "stderr",
     "output_type": "stream",
     "text": [
      "INFO:tensorflow:Assets written to: ram://a4230e02-1c7f-4c07-8976-1780c62261cc/assets\n"
     ]
    }
   ],
   "source": [
    "LOSS_FUNCTION = \"sparse_categorical_crossentropy\"\n",
    "OPTIMIZERS = \"SGD\"\n",
    "\n",
    "model_clf.compile(loss=LOSS_FUNCTION, optimizer=OPTIMIZERS)"
   ]
  },
  {
   "cell_type": "markdown",
   "id": "5e983710-2e5f-4103-afc3-8ad704297578",
   "metadata": {
    "canvas": {
     "comments": [],
     "componentType": "CodeCell",
     "copiedOriginId": null,
     "diskcache": false,
     "headerColor": "inherit",
     "id": "6a9b4569-4e14-42ae-9190-1bccb4efdb8c",
     "isComponent": false,
     "name": "",
     "parents": []
    }
   },
   "source": [
    "### Train model"
   ]
  },
  {
   "cell_type": "code",
   "execution_count": 6,
   "id": "a3519a86-0ab7-4f96-8d0d-8b457e2a9f1a",
   "metadata": {
    "canvas": {
     "comments": [],
     "componentType": "CodeCell",
     "copiedOriginId": null,
     "diskcache": false,
     "headerColor": "inherit",
     "id": "d537736b-84b6-4847-96e7-7e20d7dc1182",
     "isComponent": true,
     "name": "Train model",
     "parents": [
      {
       "id": "5d51360d-88bf-43fb-94aa-5845e587f7be",
       "name": "Compile model"
      }
     ]
    },
    "tags": []
   },
   "outputs": [
    {
     "name": "stdout",
     "output_type": "stream",
     "text": [
      "WARNING:tensorflow:Compiled the loaded model, but the compiled metrics have yet to be built. `model.compile_metrics` will be empty until you train or evaluate the model.\n"
     ]
    },
    {
     "name": "stderr",
     "output_type": "stream",
     "text": [
      "WARNING:tensorflow:Compiled the loaded model, but the compiled metrics have yet to be built. `model.compile_metrics` will be empty until you train or evaluate the model.\n",
      "WARNING:absl:Function `_wrapped_model` contains input name(s) inputLayer_input with unsupported characters which will be renamed to inputlayer_input in the SavedModel.\n"
     ]
    },
    {
     "name": "stdout",
     "output_type": "stream",
     "text": [
      "INFO:tensorflow:Assets written to: ram://f4abb09b-0392-4d64-8fa1-f3d991baecc5/assets\n"
     ]
    },
    {
     "name": "stderr",
     "output_type": "stream",
     "text": [
      "INFO:tensorflow:Assets written to: ram://f4abb09b-0392-4d64-8fa1-f3d991baecc5/assets\n",
      "WARNING:absl:Function `_wrapped_model` contains input name(s) inputLayer_input with unsupported characters which will be renamed to inputlayer_input in the SavedModel.\n"
     ]
    },
    {
     "name": "stdout",
     "output_type": "stream",
     "text": [
      "INFO:tensorflow:Assets written to: ram://a3720c25-a7fa-49fb-bbc8-25ab1dee2fac/assets\n"
     ]
    },
    {
     "name": "stderr",
     "output_type": "stream",
     "text": [
      "INFO:tensorflow:Assets written to: ram://a3720c25-a7fa-49fb-bbc8-25ab1dee2fac/assets\n"
     ]
    },
    {
     "name": "stdout",
     "output_type": "stream",
     "text": [
      "Epoch 1/5\n"
     ]
    },
    {
     "name": "stderr",
     "output_type": "stream",
     "text": [
      "2022-09-26 01:37:44.504457: W tensorflow/core/platform/profile_utils/cpu_utils.cc:128] Failed to get CPU frequency: 0 Hz\n",
      "2022-09-26 01:37:44.623728: I tensorflow/core/grappler/optimizers/custom_graph_optimizer_registry.cc:114] Plugin optimizer for device_type GPU is enabled.\n"
     ]
    },
    {
     "name": "stdout",
     "output_type": "stream",
     "text": [
      "1717/1719 [============================>.] - ETA: 0s - loss: 0.6190"
     ]
    },
    {
     "name": "stderr",
     "output_type": "stream",
     "text": [
      "2022-09-26 01:37:52.006601: I tensorflow/core/grappler/optimizers/custom_graph_optimizer_registry.cc:114] Plugin optimizer for device_type GPU is enabled.\n"
     ]
    },
    {
     "name": "stdout",
     "output_type": "stream",
     "text": [
      "1719/1719 [==============================] - 8s 4ms/step - loss: 0.6189 - val_loss: 0.3088\n",
      "Epoch 2/5\n",
      "1719/1719 [==============================] - 7s 4ms/step - loss: 0.2906 - val_loss: 0.2461\n",
      "Epoch 3/5\n",
      "1719/1719 [==============================] - 7s 4ms/step - loss: 0.2399 - val_loss: 0.2081\n",
      "Epoch 4/5\n",
      "1719/1719 [==============================] - 7s 4ms/step - loss: 0.2056 - val_loss: 0.1835\n",
      "Epoch 5/5\n",
      "1719/1719 [==============================] - 7s 4ms/step - loss: 0.1803 - val_loss: 0.1671\n"
     ]
    },
    {
     "name": "stderr",
     "output_type": "stream",
     "text": [
      "WARNING:absl:Function `_wrapped_model` contains input name(s) inputLayer_input with unsupported characters which will be renamed to inputlayer_input in the SavedModel.\n"
     ]
    },
    {
     "name": "stdout",
     "output_type": "stream",
     "text": [
      "INFO:tensorflow:Assets written to: ram://391980a9-f4f0-4a30-9995-104f875dbbbd/assets\n"
     ]
    },
    {
     "name": "stderr",
     "output_type": "stream",
     "text": [
      "INFO:tensorflow:Assets written to: ram://391980a9-f4f0-4a30-9995-104f875dbbbd/assets\n",
      "WARNING:absl:Function `_wrapped_model` contains input name(s) inputLayer_input with unsupported characters which will be renamed to inputlayer_input in the SavedModel.\n"
     ]
    },
    {
     "name": "stdout",
     "output_type": "stream",
     "text": [
      "INFO:tensorflow:Assets written to: ram://00cfcc29-62b5-483a-9616-724cc41feb9c/assets\n"
     ]
    },
    {
     "name": "stderr",
     "output_type": "stream",
     "text": [
      "INFO:tensorflow:Assets written to: ram://00cfcc29-62b5-483a-9616-724cc41feb9c/assets\n"
     ]
    }
   ],
   "source": [
    "EPOCHS = 5\n",
    "\n",
    "VALIDATION = (X_valid, y_valid)\n",
    "\n",
    "history = model_clf.fit(\n",
    "    X_train,\n",
    "    y_train,\n",
    "    epochs = EPOCHS,\n",
    "    batch_size=32,\n",
    "    validation_data = VALIDATION\n",
    ")"
   ]
  },
  {
   "cell_type": "markdown",
   "id": "b3bca86b-68e4-47ee-a85c-4932833639a2",
   "metadata": {
    "canvas": {
     "comments": [],
     "componentType": "CodeCell",
     "copiedOriginId": null,
     "diskcache": false,
     "headerColor": "inherit",
     "id": "956f5854-55b2-40e9-8e0d-07cc2b607e61",
     "isComponent": false,
     "name": "Evaluate model",
     "parents": [
      {
       "id": "d537736b-84b6-4847-96e7-7e20d7dc1182",
       "name": "Train model"
      }
     ]
    },
    "tags": []
   },
   "source": [
    "### Evaluate model"
   ]
  },
  {
   "cell_type": "code",
   "execution_count": 7,
   "id": "f061b5b9-1c09-44d0-822f-fd9e6a5c526b",
   "metadata": {
    "canvas": {
     "comments": [],
     "componentType": "CodeCell",
     "copiedOriginId": null,
     "diskcache": false,
     "headerColor": "inherit",
     "id": "66d03cfc-dedc-47d2-b357-1398d345b12f",
     "isComponent": true,
     "name": "Evaluate model",
     "parents": [
      {
       "id": "d537736b-84b6-4847-96e7-7e20d7dc1182",
       "name": "Train model"
      }
     ]
    },
    "tags": []
   },
   "outputs": [
    {
     "name": "stdout",
     "output_type": "stream",
     "text": [
      "WARNING:tensorflow:Compiled the loaded model, but the compiled metrics have yet to be built. `model.compile_metrics` will be empty until you train or evaluate the model.\n"
     ]
    },
    {
     "name": "stderr",
     "output_type": "stream",
     "text": [
      "WARNING:tensorflow:Compiled the loaded model, but the compiled metrics have yet to be built. `model.compile_metrics` will be empty until you train or evaluate the model.\n",
      "WARNING:absl:Function `_wrapped_model` contains input name(s) inputLayer_input with unsupported characters which will be renamed to inputlayer_input in the SavedModel.\n"
     ]
    },
    {
     "name": "stdout",
     "output_type": "stream",
     "text": [
      "INFO:tensorflow:Assets written to: ram://34196792-fecd-4bb8-b82d-cbda6727b8ec/assets\n"
     ]
    },
    {
     "name": "stderr",
     "output_type": "stream",
     "text": [
      "INFO:tensorflow:Assets written to: ram://34196792-fecd-4bb8-b82d-cbda6727b8ec/assets\n",
      "WARNING:absl:Function `_wrapped_model` contains input name(s) inputLayer_input with unsupported characters which will be renamed to inputlayer_input in the SavedModel.\n"
     ]
    },
    {
     "name": "stdout",
     "output_type": "stream",
     "text": [
      "INFO:tensorflow:Assets written to: ram://a36fe841-afd3-43eb-acb1-3b7a027b4d40/assets\n"
     ]
    },
    {
     "name": "stderr",
     "output_type": "stream",
     "text": [
      "INFO:tensorflow:Assets written to: ram://a36fe841-afd3-43eb-acb1-3b7a027b4d40/assets\n",
      "WARNING:absl:Function `_wrapped_model` contains input name(s) inputLayer_input with unsupported characters which will be renamed to inputlayer_input in the SavedModel.\n"
     ]
    },
    {
     "name": "stdout",
     "output_type": "stream",
     "text": [
      "INFO:tensorflow:Assets written to: ram://e48345ac-2ed5-4f1f-8e82-19c05dfe4528/assets\n"
     ]
    },
    {
     "name": "stderr",
     "output_type": "stream",
     "text": [
      "INFO:tensorflow:Assets written to: ram://e48345ac-2ed5-4f1f-8e82-19c05dfe4528/assets\n",
      "WARNING:absl:Function `_wrapped_model` contains input name(s) inputLayer_input with unsupported characters which will be renamed to inputlayer_input in the SavedModel.\n"
     ]
    },
    {
     "name": "stdout",
     "output_type": "stream",
     "text": [
      "INFO:tensorflow:Assets written to: ram://a1acccaf-d179-4374-815c-33a58e8e13ab/assets\n"
     ]
    },
    {
     "name": "stderr",
     "output_type": "stream",
     "text": [
      "INFO:tensorflow:Assets written to: ram://a1acccaf-d179-4374-815c-33a58e8e13ab/assets\n"
     ]
    },
    {
     "name": "stdout",
     "output_type": "stream",
     "text": [
      "313/313 [==============================] - 1s 3ms/step - loss: 0.1609\n"
     ]
    },
    {
     "name": "stderr",
     "output_type": "stream",
     "text": [
      "WARNING:absl:Function `_wrapped_model` contains input name(s) inputLayer_input with unsupported characters which will be renamed to inputlayer_input in the SavedModel.\n"
     ]
    },
    {
     "name": "stdout",
     "output_type": "stream",
     "text": [
      "INFO:tensorflow:Assets written to: ram://d78c8da5-a13f-44a0-81f7-f71b0afcbaf1/assets\n"
     ]
    },
    {
     "name": "stderr",
     "output_type": "stream",
     "text": [
      "INFO:tensorflow:Assets written to: ram://d78c8da5-a13f-44a0-81f7-f71b0afcbaf1/assets\n",
      "WARNING:absl:Function `_wrapped_model` contains input name(s) inputLayer_input with unsupported characters which will be renamed to inputlayer_input in the SavedModel.\n"
     ]
    },
    {
     "name": "stdout",
     "output_type": "stream",
     "text": [
      "INFO:tensorflow:Assets written to: ram://facfc4e3-c3bd-4f54-87a2-402a01d119be/assets\n"
     ]
    },
    {
     "name": "stderr",
     "output_type": "stream",
     "text": [
      "INFO:tensorflow:Assets written to: ram://facfc4e3-c3bd-4f54-87a2-402a01d119be/assets\n"
     ]
    },
    {
     "data": {
      "text/plain": [
       "0.1609240621328354"
      ]
     },
     "execution_count": 7,
     "metadata": {},
     "output_type": "execute_result"
    }
   ],
   "source": [
    "model_clf.evaluate(X_test, y_test)"
   ]
  },
  {
   "cell_type": "markdown",
   "id": "78be5379-5a04-42b2-a235-02eb63db08e2",
   "metadata": {
    "canvas": {
     "comments": [],
     "componentType": "CodeCell",
     "copiedOriginId": null,
     "diskcache": false,
     "headerColor": "inherit",
     "id": "7c645f5d-0a7c-4dd9-858c-459f1f4bd452",
     "isComponent": false,
     "name": "",
     "parents": []
    }
   },
   "source": [
    "### Save model"
   ]
  },
  {
   "cell_type": "code",
   "execution_count": 8,
   "id": "bd0c2a1b-4df5-4b77-a6bf-6f412ec37076",
   "metadata": {
    "canvas": {
     "comments": [],
     "componentType": "CodeCell",
     "copiedOriginId": null,
     "diskcache": false,
     "headerColor": "inherit",
     "id": "8142f999-6600-4964-8d88-21e4437d25bf",
     "isComponent": true,
     "name": "Save model",
     "parents": [
      {
       "id": "d537736b-84b6-4847-96e7-7e20d7dc1182",
       "name": "Train model"
      }
     ]
    },
    "tags": []
   },
   "outputs": [
    {
     "name": "stdout",
     "output_type": "stream",
     "text": [
      "WARNING:tensorflow:Compiled the loaded model, but the compiled metrics have yet to be built. `model.compile_metrics` will be empty until you train or evaluate the model.\n"
     ]
    },
    {
     "name": "stderr",
     "output_type": "stream",
     "text": [
      "WARNING:tensorflow:Compiled the loaded model, but the compiled metrics have yet to be built. `model.compile_metrics` will be empty until you train or evaluate the model.\n",
      "WARNING:absl:Function `_wrapped_model` contains input name(s) inputLayer_input with unsupported characters which will be renamed to inputlayer_input in the SavedModel.\n"
     ]
    },
    {
     "name": "stdout",
     "output_type": "stream",
     "text": [
      "INFO:tensorflow:Assets written to: ram://6ddb35cc-6608-49a8-8f1d-14b04b39725f/assets\n"
     ]
    },
    {
     "name": "stderr",
     "output_type": "stream",
     "text": [
      "INFO:tensorflow:Assets written to: ram://6ddb35cc-6608-49a8-8f1d-14b04b39725f/assets\n",
      "WARNING:absl:Function `_wrapped_model` contains input name(s) inputLayer_input with unsupported characters which will be renamed to inputlayer_input in the SavedModel.\n"
     ]
    },
    {
     "name": "stdout",
     "output_type": "stream",
     "text": [
      "INFO:tensorflow:Assets written to: ram://11e23035-2e88-4672-8573-88cbaf5d0c6b/assets\n"
     ]
    },
    {
     "name": "stderr",
     "output_type": "stream",
     "text": [
      "INFO:tensorflow:Assets written to: ram://11e23035-2e88-4672-8573-88cbaf5d0c6b/assets\n",
      "WARNING:absl:Function `_wrapped_model` contains input name(s) inputLayer_input with unsupported characters which will be renamed to inputlayer_input in the SavedModel.\n"
     ]
    },
    {
     "name": "stdout",
     "output_type": "stream",
     "text": [
      "INFO:tensorflow:Assets written to: ram://51de549b-734d-4db9-88b9-850ac6d1cf75/assets\n"
     ]
    },
    {
     "name": "stderr",
     "output_type": "stream",
     "text": [
      "INFO:tensorflow:Assets written to: ram://51de549b-734d-4db9-88b9-850ac6d1cf75/assets\n",
      "WARNING:absl:Function `_wrapped_model` contains input name(s) inputLayer_input with unsupported characters which will be renamed to inputlayer_input in the SavedModel.\n"
     ]
    },
    {
     "name": "stdout",
     "output_type": "stream",
     "text": [
      "INFO:tensorflow:Assets written to: ram://e0eee3f8-bdd5-43d8-908d-d55c96a53439/assets\n"
     ]
    },
    {
     "name": "stderr",
     "output_type": "stream",
     "text": [
      "INFO:tensorflow:Assets written to: ram://e0eee3f8-bdd5-43d8-908d-d55c96a53439/assets\n",
      "WARNING:absl:Function `_wrapped_model` contains input name(s) inputLayer_input with unsupported characters which will be renamed to inputlayer_input in the SavedModel.\n"
     ]
    },
    {
     "name": "stdout",
     "output_type": "stream",
     "text": [
      "INFO:tensorflow:Assets written to: ram://ab2517da-0ec3-4720-835f-bbd3caf525d5/assets\n"
     ]
    },
    {
     "name": "stderr",
     "output_type": "stream",
     "text": [
      "INFO:tensorflow:Assets written to: ram://ab2517da-0ec3-4720-835f-bbd3caf525d5/assets\n",
      "WARNING:absl:Function `_wrapped_model` contains input name(s) inputLayer_input with unsupported characters which will be renamed to inputlayer_input in the SavedModel.\n"
     ]
    },
    {
     "name": "stdout",
     "output_type": "stream",
     "text": [
      "INFO:tensorflow:Assets written to: ram://55227ebe-4d9e-487c-9090-721f372d78f2/assets\n"
     ]
    },
    {
     "name": "stderr",
     "output_type": "stream",
     "text": [
      "INFO:tensorflow:Assets written to: ram://55227ebe-4d9e-487c-9090-721f372d78f2/assets\n"
     ]
    }
   ],
   "source": [
    "model_clf.save(\"mnist_full.h5\")"
   ]
  },
  {
   "cell_type": "markdown",
   "id": "ca6eee02-1472-46f7-bf06-0ade2cd8e752",
   "metadata": {
    "canvas": {
     "comments": [],
     "componentType": "CodeCell",
     "copiedOriginId": null,
     "diskcache": false,
     "headerColor": "inherit",
     "id": "81a56b93-ce16-47ee-a639-ce51894f6d49",
     "isComponent": false,
     "name": "",
     "parents": []
    }
   },
   "source": [
    "### Inferencing"
   ]
  },
  {
   "cell_type": "code",
   "execution_count": 9,
   "id": "086f8318-5a7e-4db4-b232-a7b46063c873",
   "metadata": {
    "canvas": {
     "comments": [],
     "componentType": "CodeCell",
     "copiedOriginId": null,
     "diskcache": false,
     "headerColor": "inherit",
     "id": "cf006db5-c6ac-4686-86a0-16a73a137581",
     "isComponent": true,
     "name": "Inferencing",
     "parents": [
      {
       "id": "8142f999-6600-4964-8d88-21e4437d25bf",
       "name": "Save model"
      }
     ]
    },
    "tags": []
   },
   "outputs": [
    {
     "name": "stdout",
     "output_type": "stream",
     "text": [
      "WARNING:tensorflow:Compiled the loaded model, but the compiled metrics have yet to be built. `model.compile_metrics` will be empty until you train or evaluate the model.\n"
     ]
    },
    {
     "name": "stderr",
     "output_type": "stream",
     "text": [
      "WARNING:tensorflow:Compiled the loaded model, but the compiled metrics have yet to be built. `model.compile_metrics` will be empty until you train or evaluate the model.\n",
      "WARNING:absl:Function `_wrapped_model` contains input name(s) inputLayer_input with unsupported characters which will be renamed to inputlayer_input in the SavedModel.\n"
     ]
    },
    {
     "name": "stdout",
     "output_type": "stream",
     "text": [
      "INFO:tensorflow:Assets written to: ram://14805650-2461-4b80-b591-1e93a502e951/assets\n"
     ]
    },
    {
     "name": "stderr",
     "output_type": "stream",
     "text": [
      "INFO:tensorflow:Assets written to: ram://14805650-2461-4b80-b591-1e93a502e951/assets\n",
      "WARNING:absl:Function `_wrapped_model` contains input name(s) inputLayer_input with unsupported characters which will be renamed to inputlayer_input in the SavedModel.\n"
     ]
    },
    {
     "name": "stdout",
     "output_type": "stream",
     "text": [
      "INFO:tensorflow:Assets written to: ram://84576d33-5bff-408f-bcfc-53bea81928a4/assets\n"
     ]
    },
    {
     "name": "stderr",
     "output_type": "stream",
     "text": [
      "INFO:tensorflow:Assets written to: ram://84576d33-5bff-408f-bcfc-53bea81928a4/assets\n",
      "WARNING:absl:Function `_wrapped_model` contains input name(s) inputLayer_input with unsupported characters which will be renamed to inputlayer_input in the SavedModel.\n"
     ]
    },
    {
     "name": "stdout",
     "output_type": "stream",
     "text": [
      "INFO:tensorflow:Assets written to: ram://8cfbd33c-473d-45e9-af04-907d83c3bfa1/assets\n"
     ]
    },
    {
     "name": "stderr",
     "output_type": "stream",
     "text": [
      "INFO:tensorflow:Assets written to: ram://8cfbd33c-473d-45e9-af04-907d83c3bfa1/assets\n",
      "WARNING:absl:Function `_wrapped_model` contains input name(s) inputLayer_input with unsupported characters which will be renamed to inputlayer_input in the SavedModel.\n"
     ]
    },
    {
     "name": "stdout",
     "output_type": "stream",
     "text": [
      "INFO:tensorflow:Assets written to: ram://0a52ef6d-81af-4071-a391-226fecbc758f/assets\n"
     ]
    },
    {
     "name": "stderr",
     "output_type": "stream",
     "text": [
      "INFO:tensorflow:Assets written to: ram://0a52ef6d-81af-4071-a391-226fecbc758f/assets\n",
      "WARNING:absl:Function `_wrapped_model` contains input name(s) inputLayer_input with unsupported characters which will be renamed to inputlayer_input in the SavedModel.\n"
     ]
    },
    {
     "name": "stdout",
     "output_type": "stream",
     "text": [
      "INFO:tensorflow:Assets written to: ram://cadcfbcb-35ea-429a-9a92-1fba7d49b356/assets\n"
     ]
    },
    {
     "name": "stderr",
     "output_type": "stream",
     "text": [
      "INFO:tensorflow:Assets written to: ram://cadcfbcb-35ea-429a-9a92-1fba7d49b356/assets\n",
      "WARNING:absl:Function `_wrapped_model` contains input name(s) inputLayer_input with unsupported characters which will be renamed to inputlayer_input in the SavedModel.\n"
     ]
    },
    {
     "name": "stdout",
     "output_type": "stream",
     "text": [
      "INFO:tensorflow:Assets written to: ram://d954372b-9e97-4276-a06d-0291105dfe3f/assets\n"
     ]
    },
    {
     "name": "stderr",
     "output_type": "stream",
     "text": [
      "INFO:tensorflow:Assets written to: ram://d954372b-9e97-4276-a06d-0291105dfe3f/assets\n",
      "2022-09-26 01:40:44.596738: I tensorflow/core/grappler/optimizers/custom_graph_optimizer_registry.cc:114] Plugin optimizer for device_type GPU is enabled.\n"
     ]
    },
    {
     "name": "stdout",
     "output_type": "stream",
     "text": [
      "1/1 [==============================] - 0s 103ms/step\n"
     ]
    },
    {
     "data": {
      "image/png": "[encoded data removed]",
      "text/plain": [
       "<Figure size 640x480 with 1 Axes>"
      ]
     },
     "metadata": {},
     "output_type": "display_data"
    },
    {
     "name": "stdout",
     "output_type": "stream",
     "text": [
      "------------------------------------------------------------\n"
     ]
    },
    {
     "data": {
      "image/png": "[encoded data removed]",
      "text/plain": [
       "<Figure size 640x480 with 1 Axes>"
      ]
     },
     "metadata": {},
     "output_type": "display_data"
    },
    {
     "name": "stdout",
     "output_type": "stream",
     "text": [
      "------------------------------------------------------------\n"
     ]
    },
    {
     "data": {
      "image/png": "[encoded data removed]",
      "text/plain": [
       "<Figure size 640x480 with 1 Axes>"
      ]
     },
     "metadata": {},
     "output_type": "display_data"
    },
    {
     "name": "stdout",
     "output_type": "stream",
     "text": [
      "------------------------------------------------------------\n"
     ]
    },
    {
     "name": "stderr",
     "output_type": "stream",
     "text": [
      "WARNING:absl:Function `_wrapped_model` contains input name(s) inputLayer_input with unsupported characters which will be renamed to inputlayer_input in the SavedModel.\n"
     ]
    },
    {
     "name": "stdout",
     "output_type": "stream",
     "text": [
      "INFO:tensorflow:Assets written to: ram://54710bfa-6220-45ee-8b0c-928b48a31e11/assets\n"
     ]
    },
    {
     "name": "stderr",
     "output_type": "stream",
     "text": [
      "INFO:tensorflow:Assets written to: ram://54710bfa-6220-45ee-8b0c-928b48a31e11/assets\n",
      "WARNING:absl:Function `_wrapped_model` contains input name(s) inputLayer_input with unsupported characters which will be renamed to inputlayer_input in the SavedModel.\n"
     ]
    },
    {
     "name": "stdout",
     "output_type": "stream",
     "text": [
      "INFO:tensorflow:Assets written to: ram://3738fe62-d71f-4b9c-87d8-3a2d90ae8b39/assets\n"
     ]
    },
    {
     "name": "stderr",
     "output_type": "stream",
     "text": [
      "INFO:tensorflow:Assets written to: ram://3738fe62-d71f-4b9c-87d8-3a2d90ae8b39/assets\n"
     ]
    }
   ],
   "source": [
    "X_new = X_test[:3]\n",
    "\n",
    "y_prob = model_clf.predict(X_new)\n",
    "Y_pred = np.argmax(y_prob, axis=-1)\n",
    "\n",
    "for img_array, pred, actual in zip(X_new, Y_pred, y_test[:3]):\n",
    "    plt.imshow(img_array, cmap=\"gray\")\n",
    "    plt.title(f\"predicted: {pred}, actual: {actual}\")\n",
    "    plt.axis(\"off\")\n",
    "    plt.show()\n",
    "    print(\"--\"*30)"
   ]
  },
  {
   "cell_type": "code",
   "execution_count": null,
   "id": "883b46b0-992c-482a-880f-f5ee36876a3d",
   "metadata": {
    "canvas": {
     "comments": [],
     "componentType": "CodeCell",
     "copiedOriginId": null,
     "diskcache": false,
     "headerColor": "inherit",
     "id": "e6bf6d7d-de0e-489a-88ec-27bdac38bd60",
     "isComponent": false,
     "name": "",
     "parents": []
    }
   },
   "outputs": [],
   "source": []
  }
 ],
 "metadata": {
  "canvas": {
   "colorPalette": [
    "inherit",
    "inherit",
    "inherit",
    "inherit",
    "inherit",
    "inherit",
    "inherit",
    "inherit",
    "inherit",
    "inherit"
   ],
   "parameters": []
  },
  "kernelspec": {
   "display_name": "Python 3 (ipykernel)",
   "language": "python",
   "name": "python3"
  },
  "language_info": {
   "codemirror_mode": {
    "name": "ipython",
    "version": 3
   },
   "file_extension": ".py",
   "mimetype": "text/x-python",
   "name": "python",
   "nbconvert_exporter": "python",
   "pygments_lexer": "ipython3",
   "version": "3.8.13"
  }
 },
 "nbformat": 4,
 "nbformat_minor": 5
}
